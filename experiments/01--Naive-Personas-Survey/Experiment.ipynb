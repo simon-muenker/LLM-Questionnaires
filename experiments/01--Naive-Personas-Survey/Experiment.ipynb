{
 "cells": [
  {
   "cell_type": "code",
   "execution_count": null,
   "id": "19d2296379a5077",
   "metadata": {
    "ExecuteTime": {
     "end_time": "2024-05-24T06:34:28.705874Z",
     "start_time": "2024-05-24T06:34:28.701402Z"
    }
   },
   "outputs": [],
   "source": [
    "import logging\n",
    "import pathlib\n",
    "import typing\n",
    "\n",
    "import pandas as pd\n",
    "\n",
    "import cltrier_lib as lib\n",
    "import llm_moral_values as llmv\n",
    "\n",
    "logging.getLogger().setLevel(logging.INFO)"
   ]
  },
  {
   "cell_type": "code",
   "execution_count": null,
   "id": "035aef01",
   "metadata": {},
   "outputs": [],
   "source": [
    "typing.get_args(lib.inference.schemas.Models)"
   ]
  },
  {
   "cell_type": "code",
   "execution_count": null,
   "id": "f8ebffee",
   "metadata": {},
   "outputs": [],
   "source": [
    "PERSONA_ORDER = [\"base\", \"liberal\", \"moderate\", \"conservative\"]"
   ]
  },
  {
   "cell_type": "code",
   "execution_count": null,
   "id": "d62e7cfd",
   "metadata": {},
   "outputs": [],
   "source": [
    "llmv.pipelines.ConductSurvey(\n",
    "    iterations=50,\n",
    "    models=llmv.schemas.Model.from_inference_selection(),\n",
    "    survey=llmv.questionnaire.Survey(path=pathlib.Path(\"../../data/moral_foundations\")),\n",
    "    personas=llmv.schemas.Persona.from_directory(pathlib.Path(\"./personas/\")),\n",
    "    export_path=pathlib.Path(\"./data/\"),\n",
    ")()"
   ]
  },
  {
   "cell_type": "code",
   "execution_count": null,
   "id": "f58d84ff",
   "metadata": {},
   "outputs": [],
   "source": [
    "dataset: llmv.data.Survey = llmv.data.Survey(data=pd.read_parquet(\"./data/survey.parquet\"))\n",
    "dataset.data"
   ]
  },
  {
   "cell_type": "code",
   "execution_count": null,
   "id": "2c3b4580",
   "metadata": {},
   "outputs": [],
   "source": [
    "(dataset.data.groupby([\"model\", \"persona\", \"dimension\"], observed=True).mean().squeeze(axis=1))"
   ]
  },
  {
   "cell_type": "code",
   "execution_count": null,
   "id": "3eec5d70",
   "metadata": {},
   "outputs": [],
   "source": [
    "dataset.plot(\n",
    "    \"./report/points.by.model_persona_dimension.pdf\",\n",
    "    model_order=[model.name for model in llmv.schemas.Model.from_inference_selection()],\n",
    "    persona_order=PERSONA_ORDER,\n",
    ")"
   ]
  },
  {
   "cell_type": "code",
   "execution_count": null,
   "id": "e7014a10",
   "metadata": {},
   "outputs": [],
   "source": [
    "cross_evaluation: llmv.data.CrossEvaluation = llmv.data.CrossEvaluation(\n",
    "    data=pd.read_parquet(\"./data/cross_evaluation.parquet\")\n",
    ")\n",
    "cross_evaluation.data"
   ]
  },
  {
   "cell_type": "code",
   "execution_count": null,
   "id": "ed05d041",
   "metadata": {},
   "outputs": [],
   "source": [
    "cross_evaluation.plot(\"./report/heat.cross_evaluation.pdf\")"
   ]
  }
 ],
 "metadata": {
  "kernelspec": {
   "display_name": "Python 3",
   "language": "python",
   "name": "python3"
  },
  "language_info": {
   "codemirror_mode": {
    "name": "ipython",
    "version": 3
   },
   "file_extension": ".py",
   "mimetype": "text/x-python",
   "name": "python",
   "nbconvert_exporter": "python",
   "pygments_lexer": "ipython3",
   "version": "3.12.4"
  }
 },
 "nbformat": 4,
 "nbformat_minor": 5
}
