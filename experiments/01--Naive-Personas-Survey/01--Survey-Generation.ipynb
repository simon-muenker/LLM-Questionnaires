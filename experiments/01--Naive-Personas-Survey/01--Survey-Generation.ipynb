{
 "cells": [
  {
   "cell_type": "code",
   "execution_count": 2,
   "id": "19d2296379a5077",
   "metadata": {
    "ExecuteTime": {
     "end_time": "2024-05-24T06:34:28.705874Z",
     "start_time": "2024-05-24T06:34:28.701402Z"
    }
   },
   "outputs": [],
   "source": [
    "import json\n",
    "import pathlib\n",
    "import logging\n",
    "\n",
    "import llm_moral_values as llmv\n",
    "\n",
    "\n",
    "logging.getLogger().setLevel(logging.DEBUG)"
   ]
  },
  {
   "cell_type": "code",
   "execution_count": 3,
   "id": "d62e7cfd",
   "metadata": {},
   "outputs": [
    {
     "name": "stderr",
     "output_type": "stream",
     "text": [
      "INFO:root:Generated 50 surveys for configuration: gemma-7b:conservative\n",
      "INFO:root:Generated 50 surveys for configuration: gemma-7b:base\n",
      "INFO:root:Generated 50 surveys for configuration: gemma-7b:moderate\n",
      "INFO:root:Generated 50 surveys for configuration: gemma-7b:liberal\n",
      "INFO:root:Generated 50 surveys for configuration: llama2-70b:conservative\n",
      "INFO:root:Generated 50 surveys for configuration: llama2-70b:base\n",
      "INFO:root:Generated 50 surveys for configuration: llama2-70b:moderate\n",
      "INFO:root:Generated 50 surveys for configuration: llama2-70b:liberal\n",
      "INFO:root:Generated 50 surveys for configuration: llama3-70b:conservative\n",
      "INFO:root:Generated 50 surveys for configuration: llama3-70b:base\n",
      "INFO:root:Generated 50 surveys for configuration: llama3-70b:moderate\n",
      "INFO:root:Generated 50 surveys for configuration: llama3-70b:liberal\n",
      "INFO:root:Generated 50 surveys for configuration: mistral-7b:conservative\n",
      "INFO:root:Generated 50 surveys for configuration: mistral-7b:base\n",
      "INFO:root:Generated 50 surveys for configuration: mistral-7b:moderate\n",
      "INFO:root:Generated 50 surveys for configuration: mistral-7b:liberal\n",
      "INFO:root:Generated 50 surveys for configuration: mixtral-8x22b:conservative\n",
      "INFO:root:Generated 50 surveys for configuration: mixtral-8x22b:base\n",
      "INFO:root:Generated 50 surveys for configuration: mixtral-8x22b:moderate\n",
      "INFO:root:Generated 50 surveys for configuration: mixtral-8x22b:liberal\n",
      "INFO:root:Generated 50 surveys for configuration: mixtral-8x7b:conservative\n",
      "INFO:root:Generated 50 surveys for configuration: mixtral-8x7b:base\n",
      "INFO:root:Generated 50 surveys for configuration: mixtral-8x7b:moderate\n",
      "INFO:root:Generated 50 surveys for configuration: mixtral-8x7b:liberal\n",
      "INFO:root:Generated 50 surveys for configuration: qwen-72b:conservative\n",
      "INFO:root:Generated 50 surveys for configuration: qwen-72b:base\n",
      "INFO:root:Generated 50 surveys for configuration: qwen-72b:moderate\n",
      "INFO:root:Generated 50 surveys for configuration: qwen-72b:liberal\n"
     ]
    }
   ],
   "source": [
    "llmv.pipelines.ConductSurvey(\n",
    "    iterations=50,\n",
    "    models=[\n",
    "        \"gemma:7b-instruct-q6_K\",\n",
    "        \"llama2:70b-chat-q6_K\",\n",
    "        \"llama3:70b-instruct-q6_K\",\n",
    "        \"mistral:7b-instruct-v0.2-q6_K\",\n",
    "        \"mixtral:8x22b-instruct-v0.1-q6_K\",\n",
    "        \"mixtral:8x7b-instruct-v0.1-q6_K\",\n",
    "        \"qwen:72b-chat-v1.5-q6_K\",\n",
    "    ],\n",
    "    questionnaire=llmv.Questionnaire(\n",
    "        path=\"../../data/questionnaires/moral_foundations\"\n",
    "    ),\n",
    "    personas=[\n",
    "        llmv.Persona.model_validate(json.load(open(path, \"r\")))\n",
    "        for path in list(pathlib.Path(\"../../data/personas/\").iterdir())\n",
    "    ],\n",
    "    export_path=pathlib.Path(\"./data/\"),\n",
    ")()"
   ]
  }
 ],
 "metadata": {
  "kernelspec": {
   "display_name": "Python 3",
   "language": "python",
   "name": "python3"
  },
  "language_info": {
   "codemirror_mode": {
    "name": "ipython",
    "version": 3
   },
   "file_extension": ".py",
   "mimetype": "text/x-python",
   "name": "python",
   "nbconvert_exporter": "python",
   "pygments_lexer": "ipython3",
   "version": "3.12.4"
  }
 },
 "nbformat": 4,
 "nbformat_minor": 5
}
