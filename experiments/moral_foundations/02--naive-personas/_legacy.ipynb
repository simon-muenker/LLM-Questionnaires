{
 "cells": [
  {
   "cell_type": "code",
   "execution_count": null,
   "id": "19d2296379a5077",
   "metadata": {
    "ExecuteTime": {
     "end_time": "2024-05-24T06:34:28.705874Z",
     "start_time": "2024-05-24T06:34:28.701402Z"
    }
   },
   "outputs": [],
   "source": [
    "import llm_moral_values as llmv\n",
    "import pandas as pd"
   ]
  },
  {
   "cell_type": "code",
   "execution_count": null,
   "id": "f58d84ff",
   "metadata": {},
   "outputs": [],
   "source": [
    "dataset: llmv.data.Survey = llmv.data.Survey(data=pd.read_parquet(\"./data/survey.parquet\"))\n",
    "dataset.data"
   ]
  },
  {
   "cell_type": "code",
   "execution_count": null,
   "id": "6f14c575",
   "metadata": {},
   "outputs": [],
   "source": [
    "dataset.data.groupby([\"model\", \"persona\"], observed=True).size()"
   ]
  },
  {
   "cell_type": "code",
   "execution_count": null,
   "id": "2c3b4580",
   "metadata": {},
   "outputs": [],
   "source": [
    "(dataset.data.groupby([\"model\", \"persona\", \"dimension\"], observed=True).mean().squeeze(axis=1))"
   ]
  },
  {
   "cell_type": "code",
   "execution_count": null,
   "id": "3eec5d70",
   "metadata": {},
   "outputs": [],
   "source": [
    "dataset.plot(\"./report/points.by.model_persona_dimension.pdf\")"
   ]
  },
  {
   "cell_type": "code",
   "execution_count": null,
   "id": "e7014a10",
   "metadata": {},
   "outputs": [],
   "source": [
    "cross_evaluation: llmv.data.CrossEvaluation = llmv.data.CrossEvaluation(\n",
    "    data=pd.read_parquet(\"./data/cross_evaluation.parquet\")\n",
    ")\n",
    "cross_evaluation.data"
   ]
  },
  {
   "cell_type": "code",
   "execution_count": null,
   "id": "ed05d041",
   "metadata": {},
   "outputs": [],
   "source": [
    "cross_evaluation.plot(\"./report/heat.cross_evaluation.pdf\")"
   ]
  }
 ],
 "metadata": {
  "kernelspec": {
   "display_name": ".venv",
   "language": "python",
   "name": "python3"
  },
  "language_info": {
   "codemirror_mode": {
    "name": "ipython",
    "version": 3
   },
   "file_extension": ".py",
   "mimetype": "text/x-python",
   "name": "python",
   "nbconvert_exporter": "python",
   "pygments_lexer": "ipython3",
   "version": "3.12.9"
  }
 },
 "nbformat": 4,
 "nbformat_minor": 5
}
