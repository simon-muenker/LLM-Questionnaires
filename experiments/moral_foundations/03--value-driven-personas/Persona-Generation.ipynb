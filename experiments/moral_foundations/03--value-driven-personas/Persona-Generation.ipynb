{
 "cells": [
  {
   "cell_type": "code",
   "execution_count": 1,
   "metadata": {},
   "outputs": [],
   "source": [
    "import json\n",
    "import typing\n",
    "\n",
    "import llm_questionnaires as llmq"
   ]
  },
  {
   "cell_type": "code",
   "execution_count": null,
   "metadata": {},
   "outputs": [
    {
     "data": {
      "text/plain": [
       "Survey(path=PosixPath('../../../data/moral_foundations/surveys.json'), segments=[SurveySegment(label='graham_et_al', groups={'anonymous': {'liberal': {'authority': 2.2, 'purity': 2.2, 'ingroup': 2.5, 'harm': 4.25, 'fairness': 4.35}, 'moderate': {'authority': 2.8, 'purity': 3.0, 'ingroup': 3.0, 'harm': 4.0, 'fairness': 3.95}, 'conservative': {'authority': 3.1, 'purity': 3.4, 'ingroup': 3.12, 'harm': 3.5, 'fairness': 3.65}}, 'U.S.': {'liberal': {'authority': 1.9, 'purity': 1.2, 'ingroup': 2.05, 'harm': 3.6, 'fairness': 3.75}, 'moderate': {'authority': 2.65, 'purity': 2.2, 'ingroup': 2.65, 'harm': 3.4, 'fairness': 3.45}, 'conservative': {'authority': 3.5, 'purity': 3.1, 'ingroup': 3.4, 'harm': 3.0, 'fairness': 3.1}}, 'Korean': {'liberal': {'authority': 2.25, 'purity': 2.4, 'ingroup': 2.3, 'harm': 3.35, 'fairness': 3.5}, 'moderate': {'authority': 2.55, 'purity': 2.65, 'ingroup': 2.65, 'harm': 3.25, 'fairness': 3.35}, 'conservative': {'authority': 2.9, 'purity': 2.75, 'ingroup': 2.8, 'harm': 3.35, 'fairness': 3.1}}})])"
      ]
     },
     "execution_count": 6,
     "metadata": {},
     "output_type": "execute_result"
    }
   ],
   "source": [
    "survey = llmq.Survey(path=\"../../../data/moral_foundations/surveys.json\")\n",
    "survey"
   ]
  },
  {
   "cell_type": "code",
   "execution_count": null,
   "metadata": {},
   "outputs": [
    {
     "ename": "AttributeError",
     "evalue": "'Survey' object has no attribute 'get_collection'",
     "output_type": "error",
     "traceback": [
      "\u001b[0;31m---------------------------------------------------------------------------\u001b[0m",
      "\u001b[0;31mAttributeError\u001b[0m                            Traceback (most recent call last)",
      "Cell \u001b[0;32mIn[7], line 1\u001b[0m\n\u001b[0;32m----> 1\u001b[0m \u001b[43mquestionnaire\u001b[49m\u001b[38;5;241;43m.\u001b[39;49m\u001b[43mget_collection\u001b[49m(\u001b[38;5;124m\"\u001b[39m\u001b[38;5;124mgraham_et_al\u001b[39m\u001b[38;5;124m\"\u001b[39m)\u001b[38;5;241m.\u001b[39mgroups[\u001b[38;5;124m\"\u001b[39m\u001b[38;5;124mus\u001b[39m\u001b[38;5;124m\"\u001b[39m]\n",
      "File \u001b[0;32m~/repositories/LLM-Questionnaires/.venv/lib/python3.10/site-packages/pydantic/main.py:891\u001b[0m, in \u001b[0;36mBaseModel.__getattr__\u001b[0;34m(self, item)\u001b[0m\n\u001b[1;32m    888\u001b[0m     \u001b[38;5;28;01mreturn\u001b[39;00m \u001b[38;5;28msuper\u001b[39m()\u001b[38;5;241m.\u001b[39m\u001b[38;5;21m__getattribute__\u001b[39m(item)  \u001b[38;5;66;03m# Raises AttributeError if appropriate\u001b[39;00m\n\u001b[1;32m    889\u001b[0m \u001b[38;5;28;01melse\u001b[39;00m:\n\u001b[1;32m    890\u001b[0m     \u001b[38;5;66;03m# this is the current error\u001b[39;00m\n\u001b[0;32m--> 891\u001b[0m     \u001b[38;5;28;01mraise\u001b[39;00m \u001b[38;5;167;01mAttributeError\u001b[39;00m(\u001b[38;5;124mf\u001b[39m\u001b[38;5;124m'\u001b[39m\u001b[38;5;132;01m{\u001b[39;00m\u001b[38;5;28mtype\u001b[39m(\u001b[38;5;28mself\u001b[39m)\u001b[38;5;241m.\u001b[39m\u001b[38;5;18m__name__\u001b[39m\u001b[38;5;132;01m!r}\u001b[39;00m\u001b[38;5;124m object has no attribute \u001b[39m\u001b[38;5;132;01m{\u001b[39;00mitem\u001b[38;5;132;01m!r}\u001b[39;00m\u001b[38;5;124m'\u001b[39m)\n",
      "\u001b[0;31mAttributeError\u001b[0m: 'Survey' object has no attribute 'get_collection'"
     ]
    }
   ],
   "source": [
    "survey.get_collection(\"graham_et_al\").groups[\"us\"]"
   ]
  },
  {
   "cell_type": "code",
   "execution_count": 4,
   "metadata": {},
   "outputs": [],
   "source": [
    "def reformulate_statements(question: str):\n",
    "    return (\n",
    "        question.lower()\n",
    "        .replace(\"i \", \"you \")\n",
    "        .replace(\"my \", \"your \")\n",
    "        .replace(\" am \", \" are \")\n",
    "        .replace(\"oneself\", \"yourself\")\n",
    "    )"
   ]
  },
  {
   "cell_type": "code",
   "execution_count": 7,
   "metadata": {},
   "outputs": [
    {
     "name": "stdout",
     "output_type": "stream",
     "text": [
      "liberal\n",
      "moderate\n",
      "conservative\n"
     ]
    }
   ],
   "source": [
    "catalog: typing.Dict = {}\n",
    "\n",
    "for persona in questionnaire.get_collection(\"graham_et_al\").groups[\"us\"].keys():\n",
    "    print(persona)\n",
    "\n",
    "    statements: typing.List[str] = []\n",
    "\n",
    "    for segment in questionnaire.segments:\n",
    "        for question in segment.questions:\n",
    "            if question.dimension == \"catch\":\n",
    "                continue\n",
    "\n",
    "            value = questionnaire.get_collection(\"graham_et_al\").groups[\"us\"][persona][\n",
    "                question.dimension\n",
    "            ]\n",
    "\n",
    "            if segment.label == \"agreement\":\n",
    "                statements.append(\n",
    "                    f\"You {segment.scale[str(round(value))]} that {reformulate_statements(question.content)}\"\n",
    "                )\n",
    "            if segment.label == \"relevance\":\n",
    "                statements.append(\n",
    "                    f\"You find it {segment.scale[str(round(value))]} {reformulate_statements(question.content)}\"\n",
    "                )\n",
    "\n",
    "    catalog[persona] = statements"
   ]
  },
  {
   "cell_type": "code",
   "execution_count": 9,
   "metadata": {},
   "outputs": [],
   "source": [
    "for persona, description in catalog.items():\n",
    "    json.dump(\n",
    "        {\"id\": persona, \"content\": \"\\n\".join(description)},\n",
    "        open(f\"./personas/{persona}.json\", \"w\"),\n",
    "    )"
   ]
  }
 ],
 "metadata": {
  "kernelspec": {
   "display_name": ".venv",
   "language": "python",
   "name": "python3"
  },
  "language_info": {
   "codemirror_mode": {
    "name": "ipython",
    "version": 3
   },
   "file_extension": ".py",
   "mimetype": "text/x-python",
   "name": "python",
   "nbconvert_exporter": "python",
   "pygments_lexer": "ipython3",
   "version": "3.10.12"
  }
 },
 "nbformat": 4,
 "nbformat_minor": 2
}
