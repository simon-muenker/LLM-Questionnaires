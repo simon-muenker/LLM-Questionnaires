{
 "cells": [
  {
   "cell_type": "code",
   "execution_count": null,
   "id": "19d2296379a5077",
   "metadata": {
    "ExecuteTime": {
     "end_time": "2024-05-24T06:34:28.705874Z",
     "start_time": "2024-05-24T06:34:28.701402Z"
    }
   },
   "outputs": [],
   "source": [
    "import llm_moral_values as llmv\n",
    "import matplotlib.pyplot as plt\n",
    "import pandas as pd\n",
    "import seaborn as sns"
   ]
  },
  {
   "cell_type": "code",
   "execution_count": null,
   "id": "f58d84ff",
   "metadata": {},
   "outputs": [],
   "source": [
    "dataset: llmv.data.Survey = llmv.data.Survey(data=pd.read_parquet(\"./data/survey.parquet\"))\n",
    "dataset.data"
   ]
  },
  {
   "cell_type": "code",
   "execution_count": null,
   "id": "6f14c575",
   "metadata": {},
   "outputs": [],
   "source": [
    "dataset.data.groupby([\"model\", \"persona\"], observed=True).size()"
   ]
  },
  {
   "cell_type": "code",
   "execution_count": null,
   "id": "2c3b4580",
   "metadata": {},
   "outputs": [],
   "source": [
    "(dataset.data.groupby([\"model\", \"persona\", \"dimension\"], observed=True).mean().squeeze(axis=1))"
   ]
  },
  {
   "cell_type": "code",
   "execution_count": null,
   "id": "9ecdac2f",
   "metadata": {},
   "outputs": [],
   "source": [
    "grid = sns.FacetGrid(\n",
    "    dataset.data.droplevel(3).reset_index(),\n",
    "    col=\"dimension\",\n",
    "    col_wrap=3,\n",
    "    height=4,\n",
    ")\n",
    "\n",
    "grid.map_dataframe(\n",
    "    sns.pointplot,\n",
    "    x=\"response\",\n",
    "    y=\"model\",\n",
    "    errorbar=\"sd\",\n",
    "    capsize=0.1,\n",
    "    markersize=1.4,\n",
    "    linestyle=\"none\",\n",
    "    err_kws={\"linewidth\": 1, \"alpha\": 0.3},\n",
    ")\n",
    "grid.add_legend()\n",
    "grid.savefig(\"./report/points.by.model_dimension.pdf\")"
   ]
  },
  {
   "cell_type": "code",
   "execution_count": null,
   "id": "e7014a10",
   "metadata": {},
   "outputs": [],
   "source": [
    "cross_evaluation: llmv.data.CrossEvaluation = llmv.data.CrossEvaluation(\n",
    "    data=pd.read_parquet(\"./data/cross_evaluation.parquet\")\n",
    ")\n",
    "cross_evaluation.data"
   ]
  },
  {
   "cell_type": "code",
   "execution_count": null,
   "id": "52930494",
   "metadata": {},
   "outputs": [],
   "source": [
    "fig, ax = plt.subplots(figsize=(10, int(len(cross_evaluation.data.droplevel(1)) * 0.35)))\n",
    "\n",
    "sns.heatmap(cross_evaluation.data.droplevel(1), annot=True, fmt=\".3f\", cmap=\"crest\")\n",
    "\n",
    "ax.vlines(\n",
    "    range(0, len(cross_evaluation.data.droplevel(1)), 3),\n",
    "    *ax.get_ylim(),\n",
    "    linewidth=3.0,\n",
    "    color=\"white\",\n",
    ")\n",
    "\n",
    "secx = ax.secondary_xaxis(location=\"top\")\n",
    "secx.set_xticks(\n",
    "    [1.5, 4.5, 7.5],\n",
    "    labels=[\"anonymous\\n\\n\\n\\n\", \"U.S.\\n\\n\\n\\n\", \"Korea\\n\\n\\n\\n\"],\n",
    ")\n",
    "secx.tick_params(axis=\"x\", labelsize=\"large\")\n",
    "\n",
    "ax.set(xlabel=\"\", ylabel=\"\")\n",
    "\n",
    "ax.xaxis.tick_top()\n",
    "ax.set_xticklabels([\"liberal\", \"moderate\", \"conservative\"] * 3)\n",
    "ax.tick_params(axis=\"x\", labelrotation=45)\n",
    "\n",
    "fig.savefig(\"./report/heat.cross_evaluation.pdf\", bbox_inches=\"tight\")"
   ]
  }
 ],
 "metadata": {
  "kernelspec": {
   "display_name": "Python 3",
   "language": "python",
   "name": "python3"
  },
  "language_info": {
   "codemirror_mode": {
    "name": "ipython",
    "version": 3
   },
   "file_extension": ".py",
   "mimetype": "text/x-python",
   "name": "python",
   "nbconvert_exporter": "python",
   "pygments_lexer": "ipython3",
   "version": "3.12.4"
  }
 },
 "nbformat": 4,
 "nbformat_minor": 5
}
