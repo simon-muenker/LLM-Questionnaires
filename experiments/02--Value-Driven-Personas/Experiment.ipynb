{
 "cells": [
  {
   "cell_type": "code",
   "execution_count": 4,
   "id": "19d2296379a5077",
   "metadata": {
    "ExecuteTime": {
     "end_time": "2024-05-24T06:34:28.705874Z",
     "start_time": "2024-05-24T06:34:28.701402Z"
    }
   },
   "outputs": [],
   "source": [
    "import logging\n",
    "import pathlib\n",
    "\n",
    "import pandas as pd\n",
    "\n",
    "import llm_moral_values as llmv\n",
    "\n",
    "logging.getLogger().setLevel(logging.INFO)"
   ]
  },
  {
   "cell_type": "code",
   "execution_count": 5,
   "id": "f8ebffee",
   "metadata": {},
   "outputs": [],
   "source": [
    "PERSONA_ORDER = [\"liberal\", \"moderate\", \"conservative\"]"
   ]
  },
  {
   "cell_type": "code",
   "execution_count": 6,
   "id": "d62e7cfd",
   "metadata": {},
   "outputs": [
    {
     "name": "stderr",
     "output_type": "stream",
     "text": [
      "INFO:root:> Conducting Survey\n",
      "INFO:root:Generated 50 surveys for configuration: gemma:7b:conservative\n",
      "INFO:root:Generated 50 surveys for configuration: gemma:7b:moderate\n",
      "('gemma:7b', 'liberal'): 100%|██████████| 32/32 [00:27<00:00,  1.18it/s]\n",
      "('gemma:7b', 'liberal'): 100%|██████████| 32/32 [00:25<00:00,  1.27it/s]\n",
      "('gemma:7b', 'liberal'): 100%|██████████| 32/32 [00:23<00:00,  1.35it/s]\n",
      "('gemma:7b', 'liberal'): 100%|██████████| 32/32 [00:24<00:00,  1.29it/s]\n",
      "('gemma:7b', 'liberal'): 100%|██████████| 32/32 [00:23<00:00,  1.37it/s]\n",
      "('gemma:7b', 'liberal'): 100%|██████████| 32/32 [00:23<00:00,  1.36it/s]\n",
      "('gemma:7b', 'liberal'): 100%|██████████| 32/32 [00:25<00:00,  1.25it/s]\n",
      "('gemma:7b', 'liberal'): 100%|██████████| 32/32 [00:24<00:00,  1.28it/s]\n",
      "('gemma:7b', 'liberal'): 100%|██████████| 32/32 [00:24<00:00,  1.31it/s]\n",
      "('gemma:7b', 'liberal'): 100%|██████████| 32/32 [00:25<00:00,  1.27it/s]\n",
      "('gemma:7b', 'liberal'): 100%|██████████| 32/32 [00:24<00:00,  1.29it/s]\n",
      "('gemma:7b', 'liberal'): 100%|██████████| 32/32 [00:24<00:00,  1.33it/s]\n",
      "('gemma:7b', 'liberal'): 100%|██████████| 32/32 [00:23<00:00,  1.34it/s]\n",
      "('gemma:7b', 'liberal'): 100%|██████████| 32/32 [00:26<00:00,  1.22it/s]\n",
      "('gemma:7b', 'liberal'): 100%|██████████| 32/32 [00:26<00:00,  1.22it/s]\n",
      "('gemma:7b', 'liberal'): 100%|██████████| 32/32 [00:25<00:00,  1.26it/s]\n",
      "('gemma:7b', 'liberal'): 100%|██████████| 32/32 [00:24<00:00,  1.30it/s]\n",
      "('gemma:7b', 'liberal'): 100%|██████████| 32/32 [00:25<00:00,  1.28it/s]\n",
      "('gemma:7b', 'liberal'): 100%|██████████| 32/32 [00:26<00:00,  1.23it/s]\n",
      "('gemma:7b', 'liberal'): 100%|██████████| 32/32 [00:24<00:00,  1.29it/s]\n",
      "('gemma:7b', 'liberal'): 100%|██████████| 32/32 [00:23<00:00,  1.34it/s]\n",
      "('gemma:7b', 'liberal'): 100%|██████████| 32/32 [00:25<00:00,  1.25it/s]\n",
      "('gemma:7b', 'liberal'): 100%|██████████| 32/32 [00:24<00:00,  1.31it/s]\n",
      "('gemma:7b', 'liberal'): 100%|██████████| 32/32 [00:25<00:00,  1.28it/s]\n",
      "('gemma:7b', 'liberal'): 100%|██████████| 32/32 [00:23<00:00,  1.34it/s]\n",
      "('gemma:7b', 'liberal'): 100%|██████████| 32/32 [00:23<00:00,  1.34it/s]\n",
      "('gemma:7b', 'liberal'): 100%|██████████| 32/32 [00:23<00:00,  1.34it/s]\n",
      "('gemma:7b', 'liberal'): 100%|██████████| 32/32 [00:25<00:00,  1.25it/s]\n",
      "('gemma:7b', 'liberal'): 100%|██████████| 32/32 [00:23<00:00,  1.37it/s]\n",
      "('gemma:7b', 'liberal'): 100%|██████████| 32/32 [00:23<00:00,  1.34it/s]\n",
      "('gemma:7b', 'liberal'): 100%|██████████| 32/32 [00:24<00:00,  1.29it/s]\n",
      "('gemma:7b', 'liberal'): 100%|██████████| 32/32 [00:22<00:00,  1.43it/s]\n",
      "('gemma:7b', 'liberal'): 100%|██████████| 32/32 [00:24<00:00,  1.33it/s]\n",
      "('gemma:7b', 'liberal'): 100%|██████████| 32/32 [00:23<00:00,  1.38it/s]\n",
      "('gemma:7b', 'liberal'): 100%|██████████| 32/32 [00:23<00:00,  1.37it/s]\n",
      "('gemma:7b', 'liberal'): 100%|██████████| 32/32 [00:24<00:00,  1.30it/s]\n",
      "('gemma:7b', 'liberal'): 100%|██████████| 32/32 [00:23<00:00,  1.35it/s]\n",
      "('gemma:7b', 'liberal'): 100%|██████████| 32/32 [00:23<00:00,  1.37it/s]\n",
      "('gemma:7b', 'liberal'): 100%|██████████| 32/32 [00:22<00:00,  1.40it/s]\n",
      "('gemma:7b', 'liberal'): 100%|██████████| 32/32 [00:22<00:00,  1.40it/s]\n",
      "('gemma:7b', 'liberal'): 100%|██████████| 32/32 [00:22<00:00,  1.44it/s]\n",
      "('gemma:7b', 'liberal'): 100%|██████████| 32/32 [00:23<00:00,  1.39it/s]\n",
      "('gemma:7b', 'liberal'): 100%|██████████| 32/32 [00:23<00:00,  1.37it/s]\n",
      "('gemma:7b', 'liberal'): 100%|██████████| 32/32 [00:22<00:00,  1.39it/s]\n",
      "('gemma:7b', 'liberal'): 100%|██████████| 32/32 [00:24<00:00,  1.33it/s]\n",
      "('gemma:7b', 'liberal'): 100%|██████████| 32/32 [00:23<00:00,  1.36it/s]\n",
      "INFO:root:Generated 50 surveys for configuration: gemma:7b:liberal\n",
      "INFO:root:Generated 50 surveys for configuration: gemma2:27b:conservative\n",
      "INFO:root:Generated 50 surveys for configuration: gemma2:27b:moderate\n",
      "INFO:root:Generated 50 surveys for configuration: gemma2:27b:liberal\n",
      "INFO:root:Generated 50 surveys for configuration: llama3.1:8b:conservative\n",
      "INFO:root:Generated 50 surveys for configuration: llama3.1:8b:moderate\n",
      "INFO:root:Generated 50 surveys for configuration: llama3.1:8b:liberal\n",
      "('llama2:70b', 'conservative'): 100%|██████████| 32/32 [01:47<00:00,  3.35s/it]\n",
      "('llama2:70b', 'conservative'): 100%|██████████| 32/32 [00:38<00:00,  1.20s/it]\n",
      "('llama2:70b', 'conservative'): 100%|██████████| 32/32 [00:36<00:00,  1.16s/it]\n",
      "('llama2:70b', 'conservative'): 100%|██████████| 32/32 [00:36<00:00,  1.15s/it]\n",
      "('llama2:70b', 'conservative'): 100%|██████████| 32/32 [00:37<00:00,  1.17s/it]\n",
      "('llama2:70b', 'conservative'): 100%|██████████| 32/32 [00:36<00:00,  1.15s/it]\n",
      "('llama2:70b', 'conservative'): 100%|██████████| 32/32 [00:38<00:00,  1.21s/it]\n",
      "('llama2:70b', 'conservative'): 100%|██████████| 32/32 [00:35<00:00,  1.11s/it]\n",
      "('llama2:70b', 'conservative'): 100%|██████████| 32/32 [00:36<00:00,  1.14s/it]\n",
      "('llama2:70b', 'conservative'): 100%|██████████| 32/32 [01:50<00:00,  3.44s/it]\n",
      "('llama2:70b', 'conservative'): 100%|██████████| 32/32 [00:36<00:00,  1.13s/it]\n",
      "('llama2:70b', 'conservative'): 100%|██████████| 32/32 [00:36<00:00,  1.16s/it]\n",
      "('llama2:70b', 'conservative'): 100%|██████████| 32/32 [00:45<00:00,  1.42s/it]\n",
      "('llama2:70b', 'conservative'): 100%|██████████| 32/32 [00:36<00:00,  1.15s/it]\n",
      "('llama2:70b', 'conservative'): 100%|██████████| 32/32 [00:36<00:00,  1.14s/it]\n",
      "('llama2:70b', 'conservative'): 100%|██████████| 32/32 [00:38<00:00,  1.20s/it]\n",
      "('llama2:70b', 'conservative'): 100%|██████████| 32/32 [00:36<00:00,  1.14s/it]\n",
      "('llama2:70b', 'conservative'): 100%|██████████| 32/32 [00:35<00:00,  1.10s/it]\n",
      "('llama2:70b', 'conservative'): 100%|██████████| 32/32 [00:36<00:00,  1.13s/it]\n",
      "('llama2:70b', 'conservative'): 100%|██████████| 32/32 [00:36<00:00,  1.13s/it]\n",
      "('llama2:70b', 'conservative'): 100%|██████████| 32/32 [00:36<00:00,  1.16s/it]\n",
      "('llama2:70b', 'conservative'): 100%|██████████| 32/32 [00:37<00:00,  1.18s/it]\n",
      "('llama2:70b', 'conservative'): 100%|██████████| 32/32 [00:37<00:00,  1.16s/it]\n",
      "('llama2:70b', 'conservative'): 100%|██████████| 32/32 [00:36<00:00,  1.15s/it]\n",
      "('llama2:70b', 'conservative'): 100%|██████████| 32/32 [00:36<00:00,  1.14s/it]\n",
      "('llama2:70b', 'conservative'): 100%|██████████| 32/32 [00:36<00:00,  1.14s/it]\n",
      "('llama2:70b', 'conservative'): 100%|██████████| 32/32 [00:36<00:00,  1.13s/it]\n",
      "('llama2:70b', 'conservative'): 100%|██████████| 32/32 [00:36<00:00,  1.14s/it]\n",
      "('llama2:70b', 'conservative'): 100%|██████████| 32/32 [01:01<00:00,  1.93s/it]\n",
      "('llama2:70b', 'conservative'): 100%|██████████| 32/32 [01:00<00:00,  1.90s/it]\n",
      "('llama2:70b', 'conservative'): 100%|██████████| 32/32 [01:08<00:00,  2.15s/it]\n",
      "('llama2:70b', 'conservative'): 100%|██████████| 32/32 [00:36<00:00,  1.13s/it]\n",
      "('llama2:70b', 'conservative'): 100%|██████████| 32/32 [00:37<00:00,  1.17s/it]\n",
      "('llama2:70b', 'conservative'): 100%|██████████| 32/32 [00:36<00:00,  1.14s/it]\n",
      "('llama2:70b', 'conservative'): 100%|██████████| 32/32 [01:00<00:00,  1.89s/it]\n",
      "('llama2:70b', 'conservative'): 100%|██████████| 32/32 [00:36<00:00,  1.15s/it]\n",
      "('llama2:70b', 'conservative'):  81%|████████▏ | 26/32 [00:55<00:09,  1.54s/it]"
     ]
    }
   ],
   "source": [
    "llmv.pipelines.ConductSurvey(\n",
    "    iterations=50,\n",
    "    models=llmv.schemas.Model.from_inference_selection(),\n",
    "    survey=llmv.questionnaire.Survey(path=pathlib.Path(\"../../data/moral_foundations\")),\n",
    "    personas=llmv.schemas.Persona.from_directory(pathlib.Path(\"./personas/\")),\n",
    "    export_path=pathlib.Path(\"./data/\"),\n",
    ")()"
   ]
  },
  {
   "cell_type": "code",
   "execution_count": null,
   "id": "f58d84ff",
   "metadata": {},
   "outputs": [],
   "source": [
    "dataset: llmv.data.Survey = llmv.data.Survey(data=pd.read_parquet(\"./data/survey.parquet\"))\n",
    "dataset.data"
   ]
  },
  {
   "cell_type": "code",
   "execution_count": null,
   "id": "2c3b4580",
   "metadata": {},
   "outputs": [],
   "source": [
    "(dataset.data.groupby([\"model\", \"persona\", \"dimension\"], observed=True).mean().squeeze(axis=1))"
   ]
  },
  {
   "cell_type": "code",
   "execution_count": null,
   "id": "3eec5d70",
   "metadata": {},
   "outputs": [],
   "source": [
    "dataset.plot(\n",
    "    \"./report/points.by.model_persona_dimension.pdf\",\n",
    "    model_order=[model.name for model in llmv.schemas.Model.from_inference_selection()],\n",
    "    persona_order=PERSONA_ORDER,\n",
    ")"
   ]
  },
  {
   "cell_type": "code",
   "execution_count": null,
   "id": "e7014a10",
   "metadata": {},
   "outputs": [],
   "source": [
    "cross_evaluation: llmv.data.CrossEvaluation = llmv.data.CrossEvaluation(\n",
    "    data=pd.read_parquet(\"./data/cross_evaluation.parquet\")\n",
    ")\n",
    "cross_evaluation.data"
   ]
  },
  {
   "cell_type": "code",
   "execution_count": null,
   "id": "ed05d041",
   "metadata": {},
   "outputs": [],
   "source": [
    "cross_evaluation.plot(\"./report/heat.cross_evaluation.pdf\")"
   ]
  }
 ],
 "metadata": {
  "kernelspec": {
   "display_name": "Python 3",
   "language": "python",
   "name": "python3"
  },
  "language_info": {
   "codemirror_mode": {
    "name": "ipython",
    "version": 3
   },
   "file_extension": ".py",
   "mimetype": "text/x-python",
   "name": "python",
   "nbconvert_exporter": "python",
   "pygments_lexer": "ipython3",
   "version": "3.12.4"
  }
 },
 "nbformat": 4,
 "nbformat_minor": 5
}
