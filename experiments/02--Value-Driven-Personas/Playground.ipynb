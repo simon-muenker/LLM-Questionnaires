{
 "cells": [
  {
   "cell_type": "code",
   "execution_count": 1,
   "metadata": {},
   "outputs": [],
   "source": [
    "import json\n",
    "import typing\n",
    "\n",
    "import llm_moral_values as llmv"
   ]
  },
  {
   "cell_type": "code",
   "execution_count": 3,
   "metadata": {},
   "outputs": [],
   "source": [
    "questionnaire = llmv.questionnaire.Survey(path=\"../../data/survey/moral_foundations\")"
   ]
  },
  {
   "cell_type": "code",
   "execution_count": 4,
   "metadata": {},
   "outputs": [],
   "source": [
    "def reformulate_statements(question: str):\n",
    "    return (\n",
    "        question.lower()\n",
    "        .replace(\"i \", \"you \")\n",
    "        .replace(\"my \", \"your \")\n",
    "        .replace(\" am \", \" are \")\n",
    "        .replace(\"oneself\", \"yourself\")\n",
    "    )"
   ]
  },
  {
   "cell_type": "code",
   "execution_count": 7,
   "metadata": {},
   "outputs": [
    {
     "name": "stdout",
     "output_type": "stream",
     "text": [
      "liberal\n",
      "moderate\n",
      "conservative\n"
     ]
    }
   ],
   "source": [
    "catalog: typing.Dict = {}\n",
    "\n",
    "for persona in questionnaire.get_collection(\"graham_et_al\").groups[\"us\"].keys():\n",
    "    print(persona)\n",
    "\n",
    "    statements: typing.List[str] = []\n",
    "\n",
    "    for segment in questionnaire.segments:\n",
    "        for question in segment.questions:\n",
    "            if question.dimension == \"catch\":\n",
    "                continue\n",
    "\n",
    "            value = questionnaire.get_collection(\"graham_et_al\").groups[\"us\"][persona][question.dimension]\n",
    "\n",
    "            if segment.label == \"agreement\":\n",
    "                statements.append(\n",
    "                    f\"You {segment.scale[str(round(value))]} that {reformulate_statements(question.content)}\"\n",
    "                )\n",
    "            if segment.label == \"relevance\":\n",
    "                statements.append(\n",
    "                    f\"You find it {segment.scale[str(round(value))]} {reformulate_statements(question.content)}\"\n",
    "                )\n",
    "\n",
    "    catalog[persona] = statements"
   ]
  },
  {
   "cell_type": "code",
   "execution_count": 9,
   "metadata": {},
   "outputs": [],
   "source": [
    "for persona, description in catalog.items():\n",
    "    json.dump({\"id\": persona, \"content\": \"\\n\".join(description)}, open(f\"./personas/{persona}.json\", \"w\"))"
   ]
  }
 ],
 "metadata": {
  "kernelspec": {
   "display_name": ".venv",
   "language": "python",
   "name": "python3"
  },
  "language_info": {
   "codemirror_mode": {
    "name": "ipython",
    "version": 3
   },
   "file_extension": ".py",
   "mimetype": "text/x-python",
   "name": "python",
   "nbconvert_exporter": "python",
   "pygments_lexer": "ipython3",
   "version": "3.12.4"
  }
 },
 "nbformat": 4,
 "nbformat_minor": 2
}
