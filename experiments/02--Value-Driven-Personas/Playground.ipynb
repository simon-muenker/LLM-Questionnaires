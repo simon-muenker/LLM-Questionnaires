{
 "cells": [
  {
   "cell_type": "code",
   "execution_count": 4,
   "metadata": {},
   "outputs": [],
   "source": [
    "import llm_moral_values as llmv"
   ]
  },
  {
   "cell_type": "code",
   "execution_count": 5,
   "metadata": {},
   "outputs": [],
   "source": [
    "questionnaire = llmv.Questionnaire(path=\"../../data/questionnaires/moral_foundations\")"
   ]
  },
  {
   "cell_type": "code",
   "execution_count": 6,
   "metadata": {},
   "outputs": [],
   "source": [
    "def reformulate_statements(question: str):\n",
    "    return (\n",
    "        question.lower()\n",
    "        .replace(\"i \", \"you \")\n",
    "        .replace(\"my \", \"your \")\n",
    "        .replace(\" am \", \" are \")\n",
    "        .replace(\"oneself\", \"yourself\")\n",
    "    )"
   ]
  },
  {
   "cell_type": "code",
   "execution_count": 7,
   "metadata": {},
   "outputs": [],
   "source": [
    "# reduce phrase per dimension and check if agent can genneralize onto other questions\n",
    "# maximing/minimize human responses"
   ]
  },
  {
   "cell_type": "code",
   "execution_count": 8,
   "metadata": {},
   "outputs": [
    {
     "data": {
      "text/plain": [
       "['You slightly agree that compassion for those who are suffering is the most crucial virtue.',\n",
       " 'You slightly agree that when the government makes laws, the number one principle should be ensuring that everyone is treated fairly.',\n",
       " \"You slightly agree that you are proud of your country's history.\",\n",
       " 'You slightly agree that respect for authority is something all children need to learn.',\n",
       " 'You slightly disagree that people should not do things that are disgusting, even if no one is harmed.',\n",
       " 'You slightly agree that one of the worst things a person could do is hurt a defenseless animal.',\n",
       " 'You slightly agree that justice is the most important requirement for a society.',\n",
       " 'You slightly agree that people should be loyal to their family members, even when they have done something wrong.',\n",
       " 'You slightly agree that men and women each have different roles to play in society.',\n",
       " 'You slightly disagree that you would call some acts wrong on the grounds that they are unnatural.',\n",
       " 'You slightly agree that it can never be right to kill a human being.',\n",
       " \"You slightly agree that you think it's morally wrong that rich children inherit a lot of money while poor children inherit nothing.\",\n",
       " 'You slightly agree that it is more important to be a team player than to express yourself.',\n",
       " \"You slightly agree that if you were a soldier and disagreed with your commanding officer's orders, you would obey anyway because that is your duty.\",\n",
       " 'You slightly disagree that chastity is an important and valuable virtue.',\n",
       " 'You find it somewhat relevant whether or not someone suffered emotionally.',\n",
       " 'You find it somewhat relevant whether or not some people were treated differently than others.',\n",
       " \"You find it somewhat relevant whether or not someone's action showed love for his or her country.\",\n",
       " 'You find it somewhat relevant whether or not someone showed a lack of respect for authority.',\n",
       " 'You find it slightly relevant whether or not someone violated standards of purity and decency.',\n",
       " 'You find it somewhat relevant whether or not someone cared for someone weak or vulnerable.',\n",
       " 'You find it somewhat relevant whether or not someone acted unfairly.',\n",
       " 'You find it somewhat relevant whether or not someone did something to betray his or her group.',\n",
       " 'You find it somewhat relevant whether or not someone conformed to the traditions of society.',\n",
       " 'You find it slightly relevant whether or not someone did something disgusting.',\n",
       " 'You find it somewhat relevant whether or not someone was cruel.',\n",
       " 'You find it somewhat relevant whether or not someone was denied his or her rights.',\n",
       " 'You find it somewhat relevant whether or not someone showed a lack of loyalty.',\n",
       " 'You find it somewhat relevant whether or not an action caused chaos or disorder.',\n",
       " 'You find it slightly relevant whether or not someone acted in a way that god would approve of.']"
      ]
     },
     "execution_count": 8,
     "metadata": {},
     "output_type": "execute_result"
    }
   ],
   "source": [
    "catalog = []\n",
    "\n",
    "for segment in questionnaire.segments:\n",
    "    for question in segment.questions:\n",
    "        if question.dimension == \"catch\":\n",
    "            continue\n",
    "\n",
    "        value = questionnaire.get_survey(\"graham_et_al\").groups[\"us\"][\"moderate\"][question.dimension]\n",
    "\n",
    "        if segment.label == \"agreement\":\n",
    "            catalog.append(f\"You {segment.scale[str(round(value))]} that {reformulate_statements(question.content)}\")\n",
    "        if segment.label == \"relevance\":\n",
    "            catalog.append(f\"You find it {segment.scale[str(round(value))]} {reformulate_statements(question.content)}\")\n",
    "\n",
    "catalog"
   ]
  }
 ],
 "metadata": {
  "kernelspec": {
   "display_name": ".venv",
   "language": "python",
   "name": "python3"
  },
  "language_info": {
   "codemirror_mode": {
    "name": "ipython",
    "version": 3
   },
   "file_extension": ".py",
   "mimetype": "text/x-python",
   "name": "python",
   "nbconvert_exporter": "python",
   "pygments_lexer": "ipython3",
   "version": "3.12.4"
  }
 },
 "nbformat": 4,
 "nbformat_minor": 2
}
