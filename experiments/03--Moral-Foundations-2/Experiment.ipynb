{
 "cells": [
  {
   "cell_type": "code",
   "execution_count": null,
   "id": "19d2296379a5077",
   "metadata": {
    "ExecuteTime": {
     "end_time": "2024-05-24T06:34:28.705874Z",
     "start_time": "2024-05-24T06:34:28.701402Z"
    }
   },
   "outputs": [],
   "source": [
    "import logging\n",
    "import pathlib\n",
    "import typing\n",
    "import json\n",
    "import seaborn as sns\n",
    "import glob\n",
    "\n",
    "import cltrier_lib as lib\n",
    "import pandas as pd\n",
    "\n",
    "import llm_moral_values as llmv\n",
    "\n",
    "logging.getLogger().setLevel(logging.INFO)"
   ]
  },
  {
   "cell_type": "code",
   "execution_count": 2,
   "id": "f8ebffee",
   "metadata": {},
   "outputs": [],
   "source": [
    "PERSONA_ORDER = [\"argentine\", \"belgian\"]\n",
    "MODEL_ORDER = [model.name for model in llmv.schemas.Model.from_inference_selection()]"
   ]
  },
  {
   "cell_type": "code",
   "execution_count": 7,
   "id": "bb256daa",
   "metadata": {},
   "outputs": [],
   "source": [
    "data = (\n",
    "    pd.concat(\n",
    "        [\n",
    "            pd.json_normalize(json.load(open(file)))\n",
    "            for file in glob.glob(\"./data/**/*.json\", recursive=True)\n",
    "        ]\n",
    "    )\n",
    "    .pipe(\n",
    "        lambda _df: _df.assign(\n",
    "            segment=_df[\"segment\"].astype(\"category\"),\n",
    "            model=pd.Categorical(_df[\"model\"].str.split(\"-\").str[0]),\n",
    "            persona=pd.Categorical(_df[\"persona\"]),\n",
    "            response=pd.to_numeric(_df[\"response\"]),\n",
    "            id=pd.to_numeric(_df[\"id\"]),\n",
    "            dimension=_df[\"dimension\"].astype(\"category\"),\n",
    "        )\n",
    "    )\n",
    "    .sort_index()\n",
    "    .dropna()\n",
    ")\n",
    "\n",
    "\n",
    "with open(\"survey.report.txt\", \"w\") as f:\n",
    "    for model, group in (\n",
    "        data.groupby([\"segment\", \"id\", \"model\", \"persona\"], observed=True)[\"response\"].var().groupby(\"model\", observed=False)\n",
    "    ):\n",
    "        f.write(f\"{model:-^42}\\n\")\n",
    "        f.write(f\"answers w/o variance: {len(group[group == 0.0])}/{len(group)}\\n\")\n",
    "        f.write(f\"mean variance: {group.mean():2.3f}\\n\")\n",
    "        f.write(\"answers with variance (10 decile):\\n\")\n",
    "        f.write(f\"{group[group > group.quantile(.9)].droplevel(2).sort_values(ascending=False).to_string()}\\n\")\n",
    "        f.write(\"\\n\\n\")"
   ]
  },
  {
   "cell_type": "code",
   "execution_count": null,
   "id": "be2c9a6e",
   "metadata": {},
   "outputs": [],
   "source": [
    "grid = sns.FacetGrid(\n",
    "    (\n",
    "        self.data[self.data[\"dimension\"] != \"catch\"]\n",
    "        .pipe(lambda _df: _df.assign(dimension=_df[\"dimension\"].cat.remove_unused_categories()))\n",
    "        .reset_index()\n",
    "    ),\n",
    "    col=\"model\",\n",
    "    col_wrap=4,\n",
    "    height=4,\n",
    ")\n",
    "\n",
    "grid.map_dataframe(\n",
    "    sns.pointplot, x=\"response\", y=\"dimension\", hue=\"persona\", errorbar=\"sd\", **self.args.plot_styles\n",
    ")\n",
    "grid.add_legend()\n",
    "grid.savefig(export_path)"
   ]
  },
  {
   "cell_type": "code",
   "execution_count": 3,
   "id": "d62e7cfd",
   "metadata": {},
   "outputs": [
    {
     "name": "stderr",
     "output_type": "stream",
     "text": [
      "INFO:root:> Conducting Survey\n",
      "INFO:root:Generated 1 surveys for configuration: llama3.1:8b:belgian\n",
      "INFO:root:Generated 1 surveys for configuration: llama3.1:8b:argentine\n",
      "INFO:root:Generated 1 surveys for configuration: llama3.3:70b:belgian\n",
      "INFO:root:Generated 1 surveys for configuration: llama3.3:70b:argentine\n",
      "INFO:root:Generated 1 surveys for configuration: mistral:7b:belgian\n",
      "INFO:root:Generated 1 surveys for configuration: mistral:7b:argentine\n",
      "INFO:root:> Collate Data\n",
      "INFO:root:> Write Data Report\n",
      "INFO:root:> Generate Cross Evaluation\n"
     ]
    },
    {
     "ename": "StopIteration",
     "evalue": "",
     "output_type": "error",
     "traceback": [
      "\u001b[0;31m---------------------------------------------------------------------------\u001b[0m",
      "\u001b[0;31mStopIteration\u001b[0m                             Traceback (most recent call last)",
      "Cell \u001b[0;32mIn[3], line 1\u001b[0m\n\u001b[0;32m----> 1\u001b[0m \u001b[43mllmv\u001b[49m\u001b[38;5;241;43m.\u001b[39;49m\u001b[43mpipelines\u001b[49m\u001b[38;5;241;43m.\u001b[39;49m\u001b[43mConductSurvey\u001b[49m\u001b[43m(\u001b[49m\n\u001b[1;32m      2\u001b[0m \u001b[43m    \u001b[49m\u001b[43miterations\u001b[49m\u001b[38;5;241;43m=\u001b[39;49m\u001b[38;5;241;43m1\u001b[39;49m\u001b[43m,\u001b[49m\n\u001b[1;32m      3\u001b[0m \u001b[43m    \u001b[49m\u001b[43mmodels\u001b[49m\u001b[38;5;241;43m=\u001b[39;49m\u001b[43mllmv\u001b[49m\u001b[38;5;241;43m.\u001b[39;49m\u001b[43mschemas\u001b[49m\u001b[38;5;241;43m.\u001b[39;49m\u001b[43mModel\u001b[49m\u001b[38;5;241;43m.\u001b[39;49m\u001b[43mfrom_inference_selection\u001b[49m\u001b[43m(\u001b[49m\u001b[43m)\u001b[49m\u001b[43m[\u001b[49m\u001b[43m:\u001b[49m\u001b[38;5;241;43m3\u001b[39;49m\u001b[43m]\u001b[49m\u001b[43m,\u001b[49m\n\u001b[1;32m      4\u001b[0m \u001b[43m    \u001b[49m\u001b[43msurvey\u001b[49m\u001b[38;5;241;43m=\u001b[39;49m\u001b[43mllmv\u001b[49m\u001b[38;5;241;43m.\u001b[39;49m\u001b[43mquestionnaire\u001b[49m\u001b[38;5;241;43m.\u001b[39;49m\u001b[43mSurvey\u001b[49m\u001b[43m(\u001b[49m\u001b[43mpath\u001b[49m\u001b[38;5;241;43m=\u001b[39;49m\u001b[43mpathlib\u001b[49m\u001b[38;5;241;43m.\u001b[39;49m\u001b[43mPath\u001b[49m\u001b[43m(\u001b[49m\u001b[38;5;124;43m\"\u001b[39;49m\u001b[38;5;124;43m../../data/moral_foundations_2\u001b[39;49m\u001b[38;5;124;43m\"\u001b[39;49m\u001b[43m)\u001b[49m\u001b[43m)\u001b[49m\u001b[43m,\u001b[49m\n\u001b[1;32m      5\u001b[0m \u001b[43m    \u001b[49m\u001b[43mpersonas\u001b[49m\u001b[38;5;241;43m=\u001b[39;49m\u001b[43mllmv\u001b[49m\u001b[38;5;241;43m.\u001b[39;49m\u001b[43mschemas\u001b[49m\u001b[38;5;241;43m.\u001b[39;49m\u001b[43mPersona\u001b[49m\u001b[38;5;241;43m.\u001b[39;49m\u001b[43mfrom_directory\u001b[49m\u001b[43m(\u001b[49m\u001b[43mpathlib\u001b[49m\u001b[38;5;241;43m.\u001b[39;49m\u001b[43mPath\u001b[49m\u001b[43m(\u001b[49m\u001b[38;5;124;43m\"\u001b[39;49m\u001b[38;5;124;43m./personas/\u001b[39;49m\u001b[38;5;124;43m\"\u001b[39;49m\u001b[43m)\u001b[49m\u001b[43m)\u001b[49m\u001b[43m,\u001b[49m\n\u001b[1;32m      6\u001b[0m \u001b[43m    \u001b[49m\u001b[43mexport_path\u001b[49m\u001b[38;5;241;43m=\u001b[39;49m\u001b[43mpathlib\u001b[49m\u001b[38;5;241;43m.\u001b[39;49m\u001b[43mPath\u001b[49m\u001b[43m(\u001b[49m\u001b[38;5;124;43m\"\u001b[39;49m\u001b[38;5;124;43m./data/\u001b[39;49m\u001b[38;5;124;43m\"\u001b[39;49m\u001b[43m)\u001b[49m\u001b[43m,\u001b[49m\n\u001b[1;32m      7\u001b[0m \u001b[43m)\u001b[49m\u001b[43m(\u001b[49m\u001b[43m)\u001b[49m\n",
      "File \u001b[0;32m~/Repositories/LLM-Moral-Values/src/llm_moral_values/pipelines/survey.py:47\u001b[0m, in \u001b[0;36mConductSurvey.__call__\u001b[0;34m(self)\u001b[0m\n\u001b[1;32m     42\u001b[0m logging\u001b[38;5;241m.\u001b[39minfo(\u001b[38;5;124m\"\u001b[39m\u001b[38;5;124m> Generate Cross Evaluation\u001b[39m\u001b[38;5;124m\"\u001b[39m)\n\u001b[1;32m     43\u001b[0m cross_evaluation_args \u001b[38;5;241m=\u001b[39m data\u001b[38;5;241m.\u001b[39mCrossEvaluationArgs(\n\u001b[1;32m     44\u001b[0m     persona_order\u001b[38;5;241m=\u001b[39m\u001b[38;5;28mself\u001b[39m\u001b[38;5;241m.\u001b[39mpersona_order \u001b[38;5;28;01mif\u001b[39;00m \u001b[38;5;28mself\u001b[39m\u001b[38;5;241m.\u001b[39mpersona_order \u001b[38;5;28;01melse\u001b[39;00m [\u001b[38;5;124m\"\u001b[39m\u001b[38;5;124mliberal\u001b[39m\u001b[38;5;124m\"\u001b[39m, \u001b[38;5;124m\"\u001b[39m\u001b[38;5;124mmoderate\u001b[39m\u001b[38;5;124m\"\u001b[39m, \u001b[38;5;124m\"\u001b[39m\u001b[38;5;124mconservative\u001b[39m\u001b[38;5;124m\"\u001b[39m]\n\u001b[1;32m     45\u001b[0m )\n\u001b[1;32m     46\u001b[0m data_cross_evaluation: data\u001b[38;5;241m.\u001b[39mCrossEvaluation \u001b[38;5;241m=\u001b[39m data\u001b[38;5;241m.\u001b[39mCrossEvaluation\u001b[38;5;241m.\u001b[39mfrom_survey(\n\u001b[0;32m---> 47\u001b[0m     data_survey, \u001b[38;5;28;43mself\u001b[39;49m\u001b[38;5;241;43m.\u001b[39;49m\u001b[43msurvey\u001b[49m\u001b[38;5;241;43m.\u001b[39;49m\u001b[43mget_collection\u001b[49m\u001b[43m(\u001b[49m\u001b[38;5;124;43m\"\u001b[39;49m\u001b[38;5;124;43mgraham_et_al\u001b[39;49m\u001b[38;5;124;43m\"\u001b[39;49m\u001b[43m)\u001b[49m, args\u001b[38;5;241m=\u001b[39mcross_evaluation_args\n\u001b[1;32m     48\u001b[0m )\n\u001b[1;32m     49\u001b[0m data_cross_evaluation\u001b[38;5;241m.\u001b[39mdata\u001b[38;5;241m.\u001b[39mto_parquet(\u001b[38;5;124mf\u001b[39m\u001b[38;5;124m\"\u001b[39m\u001b[38;5;132;01m{\u001b[39;00m\u001b[38;5;28mself\u001b[39m\u001b[38;5;241m.\u001b[39mexport_path\u001b[38;5;132;01m}\u001b[39;00m\u001b[38;5;124m/cross_evaluation.parquet\u001b[39m\u001b[38;5;124m\"\u001b[39m)\n",
      "File \u001b[0;32m~/Repositories/LLM-Moral-Values/src/llm_moral_values/questionnaire/__init__.py:35\u001b[0m, in \u001b[0;36mSurvey.get_collection\u001b[0;34m(self, label)\u001b[0m\n\u001b[1;32m     34\u001b[0m \u001b[38;5;28;01mdef\u001b[39;00m \u001b[38;5;21mget_collection\u001b[39m(\u001b[38;5;28mself\u001b[39m, label: \u001b[38;5;28mstr\u001b[39m) \u001b[38;5;241m-\u001b[39m\u001b[38;5;241m>\u001b[39m schemas\u001b[38;5;241m.\u001b[39mCollection:\n\u001b[0;32m---> 35\u001b[0m     \u001b[38;5;28;01mreturn\u001b[39;00m \u001b[38;5;28;43mnext\u001b[39;49m\u001b[43m(\u001b[49m\u001b[38;5;28;43mfilter\u001b[39;49m\u001b[43m(\u001b[49m\u001b[38;5;28;43;01mlambda\u001b[39;49;00m\u001b[43m \u001b[49m\u001b[43mcollection\u001b[49m\u001b[43m:\u001b[49m\u001b[43m \u001b[49m\u001b[43mcollection\u001b[49m\u001b[38;5;241;43m.\u001b[39;49m\u001b[43mlabel\u001b[49m\u001b[43m \u001b[49m\u001b[38;5;241;43m==\u001b[39;49m\u001b[43m \u001b[49m\u001b[43mlabel\u001b[49m\u001b[43m,\u001b[49m\u001b[43m \u001b[49m\u001b[38;5;28;43mself\u001b[39;49m\u001b[38;5;241;43m.\u001b[39;49m\u001b[43mcollections\u001b[49m\u001b[43m)\u001b[49m\u001b[43m)\u001b[49m\n",
      "\u001b[0;31mStopIteration\u001b[0m: "
     ]
    }
   ],
   "source": [
    "llmv.pipelines.ConductSurvey(\n",
    "    iterations=1,\n",
    "    models=llmv.schemas.Model.from_inference_selection()[:3],\n",
    "    survey=llmv.questionnaire.Survey(path=pathlib.Path(\"../../data/moral_foundations_2\")),\n",
    "    personas=llmv.schemas.Persona.from_directory(pathlib.Path(\"./personas/\")),\n",
    "    export_path=pathlib.Path(\"./data/\"),\n",
    ")()"
   ]
  },
  {
   "cell_type": "code",
   "execution_count": null,
   "id": "f58d84ff",
   "metadata": {},
   "outputs": [],
   "source": [
    "dataset: llmv.data.Survey = llmv.data.Survey(data=pd.read_parquet(\"./data/survey.parquet\"))\n",
    "dataset.data"
   ]
  },
  {
   "cell_type": "code",
   "execution_count": null,
   "id": "6f14c575",
   "metadata": {},
   "outputs": [],
   "source": [
    "dataset.data.groupby([\"model\", \"persona\"], observed=True).size()"
   ]
  },
  {
   "cell_type": "code",
   "execution_count": null,
   "id": "2c3b4580",
   "metadata": {},
   "outputs": [],
   "source": [
    "(dataset.data.groupby([\"model\", \"persona\", \"dimension\"], observed=True).mean().squeeze(axis=1))"
   ]
  },
  {
   "cell_type": "code",
   "execution_count": null,
   "id": "3eec5d70",
   "metadata": {},
   "outputs": [],
   "source": [
    "dataset.plot(\"./report/points.by.model_persona_dimension.pdf\")"
   ]
  },
  {
   "cell_type": "code",
   "execution_count": null,
   "id": "e7014a10",
   "metadata": {},
   "outputs": [],
   "source": [
    "cross_evaluation: llmv.data.CrossEvaluation = llmv.data.CrossEvaluation(\n",
    "    data=pd.read_parquet(\"./data/cross_evaluation.parquet\")\n",
    ")\n",
    "cross_evaluation.data"
   ]
  },
  {
   "cell_type": "code",
   "execution_count": null,
   "id": "ed05d041",
   "metadata": {},
   "outputs": [],
   "source": [
    "cross_evaluation.plot(\"./report/heat.cross_evaluation.pdf\")"
   ]
  }
 ],
 "metadata": {
  "kernelspec": {
   "display_name": ".venv",
   "language": "python",
   "name": "python3"
  },
  "language_info": {
   "codemirror_mode": {
    "name": "ipython",
    "version": 3
   },
   "file_extension": ".py",
   "mimetype": "text/x-python",
   "name": "python",
   "nbconvert_exporter": "python",
   "pygments_lexer": "ipython3",
   "version": "3.12.9"
  }
 },
 "nbformat": 4,
 "nbformat_minor": 5
}
